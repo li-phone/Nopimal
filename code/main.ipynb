{
 "cells": [
  {
   "cell_type": "code",
   "execution_count": 14,
   "metadata": {
    "pycharm": {
     "name": "#%%\n"
    }
   },
   "outputs": [],
   "source": [
    "# 读取数据\n",
    "import pandas as pd\n",
    "import warnings\n",
    "warnings.filterwarnings('ignore')\n",
    "data=pd.read_csv('./data/train_tag.csv',encoding='gbk')\n",
    "data.drop_duplicates(inplace=True)\n"
   ]
  },
  {
   "cell_type": "code",
   "execution_count": 15,
   "metadata": {
    "pycharm": {
     "name": "#%%\n"
    }
   },
   "outputs": [
    {
     "name": "stdout",
     "output_type": "stream",
     "text": [
      "['id']\n"
     ]
    }
   ],
   "source": [
    "# 删除无关特征\n",
    "drop_list=[]\n",
    "for i in data.columns:\n",
    "    count=data[i].count()\n",
    "    if len(list(data[i].unique())) in [1,count,count-1]:\n",
    "        drop_list.append(i)\n",
    "print(drop_list)\n",
    "data.drop(drop_list,axis=1,inplace=True)"
   ]
  },
  {
   "cell_type": "code",
   "execution_count": 16,
   "metadata": {
    "pycharm": {
     "name": "#%%\n"
    }
   },
   "outputs": [
    {
     "name": "stdout",
     "output_type": "stream",
     "text": [
      "<class 'pandas.core.frame.DataFrame'>\n",
      "Int64Index: 39923 entries, 0 to 39922\n",
      "Data columns (total 42 columns):\n",
      " #   Column                           Non-Null Count  Dtype  \n",
      "---  ------                           --------------  -----  \n",
      " 0   flag                             39923 non-null  int64  \n",
      " 1   gdr_cd                           39187 non-null  object \n",
      " 2   age                              39923 non-null  int64  \n",
      " 3   mrg_situ_cd                      39187 non-null  object \n",
      " 4   edu_deg_cd                       26751 non-null  object \n",
      " 5   acdm_deg_cd                      39186 non-null  object \n",
      " 6   deg_cd                           18224 non-null  object \n",
      " 7   job_year                         39430 non-null  float64\n",
      " 8   ic_ind                           39430 non-null  float64\n",
      " 9   fr_or_sh_ind                     39430 non-null  float64\n",
      " 10  dnl_mbl_bnk_ind                  39430 non-null  float64\n",
      " 11  dnl_bind_cmb_lif_ind             39430 non-null  float64\n",
      " 12  hav_car_grp_ind                  39423 non-null  float64\n",
      " 13  hav_hou_grp_ind                  39430 non-null  float64\n",
      " 14  l6mon_agn_ind                    39423 non-null  float64\n",
      " 15  frs_agn_dt_cnt                   39423 non-null  float64\n",
      " 16  vld_rsk_ases_ind                 39423 non-null  float64\n",
      " 17  fin_rsk_ases_grd_cd              39430 non-null  float64\n",
      " 18  confirm_rsk_ases_lvl_typ_cd      39430 non-null  float64\n",
      " 19  cust_inv_rsk_endu_lvl_cd         39423 non-null  float64\n",
      " 20  l6mon_daim_aum_cd                39923 non-null  int64  \n",
      " 21  tot_ast_lvl_cd                   39423 non-null  float64\n",
      " 22  pot_ast_lvl_cd                   39423 non-null  float64\n",
      " 23  bk1_cur_year_mon_avg_agn_amt_cd  39923 non-null  int64  \n",
      " 24  l12mon_buy_fin_mng_whl_tms       39423 non-null  float64\n",
      " 25  l12_mon_fnd_buy_whl_tms          39423 non-null  float64\n",
      " 26  l12_mon_insu_buy_whl_tms         39423 non-null  float64\n",
      " 27  l12_mon_gld_buy_whl_tms          39423 non-null  float64\n",
      " 28  loan_act_ind                     39430 non-null  float64\n",
      " 29  pl_crd_lmt_cd                    39923 non-null  int64  \n",
      " 30  ovd_30d_loan_tot_cnt             39430 non-null  float64\n",
      " 31  his_lng_ovd_day                  39430 non-null  float64\n",
      " 32  hld_crd_card_grd_cd              39430 non-null  float64\n",
      " 33  crd_card_act_ind                 39423 non-null  float64\n",
      " 34  l1y_crd_card_csm_amt_dlm_cd      39423 non-null  float64\n",
      " 35  atdd_type                        16259 non-null  float64\n",
      " 36  perm_crd_lmt_cd                  39923 non-null  int64  \n",
      " 37  cur_debit_cnt                    39923 non-null  int64  \n",
      " 38  cur_credit_cnt                   39923 non-null  int64  \n",
      " 39  cur_debit_min_opn_dt_cnt         39923 non-null  int64  \n",
      " 40  cur_credit_min_opn_dt_cnt        39923 non-null  int64  \n",
      " 41  cur_debit_crd_lvl                39923 non-null  int64  \n",
      "dtypes: float64(26), int64(11), object(5)\n",
      "memory usage: 13.1+ MB\n"
     ]
    }
   ],
   "source": [
    "# 了解数据整体情况\n",
    "data.info()"
   ]
  },
  {
   "cell_type": "code",
   "execution_count": 17,
   "metadata": {
    "pycharm": {
     "name": "#%%\n"
    }
   },
   "outputs": [
    {
     "name": "stdout",
     "output_type": "stream",
     "text": [
      "atdd_type                      0.592741\n",
      "l12_mon_gld_buy_whl_tms        0.012524\n",
      "l12_mon_insu_buy_whl_tms       0.012524\n",
      "frs_agn_dt_cnt                 0.012524\n",
      "vld_rsk_ases_ind               0.012524\n",
      "cust_inv_rsk_endu_lvl_cd       0.012524\n",
      "hav_car_grp_ind                0.012524\n",
      "tot_ast_lvl_cd                 0.012524\n",
      "pot_ast_lvl_cd                 0.012524\n",
      "l12mon_buy_fin_mng_whl_tms     0.012524\n",
      "l12_mon_fnd_buy_whl_tms        0.012524\n",
      "l6mon_agn_ind                  0.012524\n",
      "crd_card_act_ind               0.012524\n",
      "l1y_crd_card_csm_amt_dlm_cd    0.012524\n",
      "dnl_mbl_bnk_ind                0.012349\n",
      "loan_act_ind                   0.012349\n",
      "hav_hou_grp_ind                0.012349\n",
      "ovd_30d_loan_tot_cnt           0.012349\n",
      "his_lng_ovd_day                0.012349\n",
      "hld_crd_card_grd_cd            0.012349\n",
      "dtype: float64\n"
     ]
    },
    {
     "data": {
      "text/plain": [
       "<matplotlib.axes._subplots.AxesSubplot at 0x15ce5550dc8>"
      ]
     },
     "execution_count": 17,
     "metadata": {},
     "output_type": "execute_result"
    },
    {
     "data": {
      "image/png": "[encoded data removed]",
      "text/plain": [
       "<Figure size 432x288 with 1 Axes>"
      ]
     },
     "metadata": {
      "needs_background": "light"
     },
     "output_type": "display_data"
    }
   ],
   "source": [
    "# 分析数值型数据缺失情况\n",
    "# % matplotlib inline\n",
    "data_num=data.select_dtypes('number').copy()\n",
    "data_num_miss_rate=1-(data_num.count()/len(data_num))\n",
    "data_num_miss_rate.sort_values(ascending=False,inplace=True)\n",
    "print(data_num_miss_rate[:20])\n",
    "data_num_miss_rate.plot()"
   ]
  },
  {
   "cell_type": "code",
   "execution_count": 18,
   "metadata": {},
   "outputs": [
    {
     "data": {
      "text/plain": [
       "Text(0, 0.5, '缺失占比')"
      ]
     },
     "execution_count": 18,
     "metadata": {},
     "output_type": "execute_result"
    },
    {
     "data": {
      "image/png": "[encoded data removed]",
      "text/plain": [
       "<Figure size 720x432 with 1 Axes>"
      ]
     },
     "metadata": {
      "needs_background": "light"
     },
     "output_type": "display_data"
    }
   ],
   "source": [
    "# 画图了解缺失情况\n",
    "import matplotlib.pyplot as plt\n",
    "import seaborn as sns\n",
    "plt.rcParams['font.family']=['SimHei']\n",
    "plt.rcParams['axes.unicode_minus']=False\n",
    "data_num=data.select_dtypes('number').copy()\n",
    "data_num_miss_rate=1-(data_num.count()/len(data_num))\n",
    "data_num_miss_rate.sort_values(ascending=False,inplace=True)\n",
    "fig,ax1=plt.subplots(figsize=(10,6))\n",
    "sns.barplot([1,2,3,4,5,6,7,8,9,10],data_num_miss_rate[:10].values,ax=ax1)\n",
    "ax1.set_title('特征缺失情况')\n",
    "ax1.set_xlabel('缺失特征排名')\n",
    "ax1.set_ylabel('缺失占比')"
   ]
  },
  {
   "cell_type": "code",
   "execution_count": 19,
   "metadata": {
    "pycharm": {
     "name": "#%%\n"
    }
   },
   "outputs": [
    {
     "ename": "KeyError",
     "evalue": "'reg_preference_for_trad'",
     "output_type": "error",
     "traceback": [
      "\u001B[1;31m---------------------------------------------------------------------------\u001B[0m",
      "\u001B[1;31mKeyError\u001B[0m                                  Traceback (most recent call last)",
      "\u001B[1;32m~\\Anaconda3\\envs\\Nopimal\\lib\\site-packages\\pandas\\core\\indexes\\base.py\u001B[0m in \u001B[0;36mget_loc\u001B[1;34m(self, key, method, tolerance)\u001B[0m\n\u001B[0;32m   2645\u001B[0m             \u001B[1;32mtry\u001B[0m\u001B[1;33m:\u001B[0m\u001B[1;33m\u001B[0m\u001B[1;33m\u001B[0m\u001B[0m\n\u001B[1;32m-> 2646\u001B[1;33m                 \u001B[1;32mreturn\u001B[0m \u001B[0mself\u001B[0m\u001B[1;33m.\u001B[0m\u001B[0m_engine\u001B[0m\u001B[1;33m.\u001B[0m\u001B[0mget_loc\u001B[0m\u001B[1;33m(\u001B[0m\u001B[0mkey\u001B[0m\u001B[1;33m)\u001B[0m\u001B[1;33m\u001B[0m\u001B[1;33m\u001B[0m\u001B[0m\n\u001B[0m\u001B[0;32m   2647\u001B[0m             \u001B[1;32mexcept\u001B[0m \u001B[0mKeyError\u001B[0m\u001B[1;33m:\u001B[0m\u001B[1;33m\u001B[0m\u001B[1;33m\u001B[0m\u001B[0m\n",
      "\u001B[1;32mpandas\\_libs\\index.pyx\u001B[0m in \u001B[0;36mpandas._libs.index.IndexEngine.get_loc\u001B[1;34m()\u001B[0m\n",
      "\u001B[1;32mpandas\\_libs\\index.pyx\u001B[0m in \u001B[0;36mpandas._libs.index.IndexEngine.get_loc\u001B[1;34m()\u001B[0m\n",
      "\u001B[1;32mpandas\\_libs\\hashtable_class_helper.pxi\u001B[0m in \u001B[0;36mpandas._libs.hashtable.PyObjectHashTable.get_item\u001B[1;34m()\u001B[0m\n",
      "\u001B[1;32mpandas\\_libs\\hashtable_class_helper.pxi\u001B[0m in \u001B[0;36mpandas._libs.hashtable.PyObjectHashTable.get_item\u001B[1;34m()\u001B[0m\n",
      "\u001B[1;31mKeyError\u001B[0m: 'reg_preference_for_trad'",
      "\nDuring handling of the above exception, another exception occurred:\n",
      "\u001B[1;31mKeyError\u001B[0m                                  Traceback (most recent call last)",
      "\u001B[1;32m<ipython-input-19-357f50622297>\u001B[0m in \u001B[0;36m<module>\u001B[1;34m\u001B[0m\n\u001B[0;32m      2\u001B[0m \u001B[0mdata_str\u001B[0m\u001B[1;33m=\u001B[0m\u001B[0mdata\u001B[0m\u001B[1;33m.\u001B[0m\u001B[0mselect_dtypes\u001B[0m\u001B[1;33m(\u001B[0m\u001B[0mexclude\u001B[0m\u001B[1;33m=\u001B[0m\u001B[1;34m'number'\u001B[0m\u001B[1;33m)\u001B[0m\u001B[1;33m.\u001B[0m\u001B[0mcopy\u001B[0m\u001B[1;33m(\u001B[0m\u001B[1;33m)\u001B[0m\u001B[1;33m\u001B[0m\u001B[1;33m\u001B[0m\u001B[0m\n\u001B[0;32m      3\u001B[0m \u001B[0mdata_str\u001B[0m\u001B[1;33m.\u001B[0m\u001B[0mdescribe\u001B[0m\u001B[1;33m(\u001B[0m\u001B[1;33m)\u001B[0m\u001B[1;33m\u001B[0m\u001B[1;33m\u001B[0m\u001B[0m\n\u001B[1;32m----> 4\u001B[1;33m \u001B[0mdata_str\u001B[0m\u001B[1;33m[\u001B[0m\u001B[1;34m'reg_preference_for_trad'\u001B[0m\u001B[1;33m]\u001B[0m\u001B[1;33m.\u001B[0m\u001B[0mfillna\u001B[0m\u001B[1;33m(\u001B[0m\u001B[0mdata_str\u001B[0m\u001B[1;33m[\u001B[0m\u001B[1;34m'reg_preference_for_trad'\u001B[0m\u001B[1;33m]\u001B[0m\u001B[1;33m.\u001B[0m\u001B[0mmode\u001B[0m\u001B[1;33m(\u001B[0m\u001B[1;33m)\u001B[0m\u001B[1;33m[\u001B[0m\u001B[1;36m0\u001B[0m\u001B[1;33m]\u001B[0m\u001B[1;33m,\u001B[0m\u001B[0minplace\u001B[0m\u001B[1;33m=\u001B[0m\u001B[1;32mTrue\u001B[0m\u001B[1;33m)\u001B[0m\u001B[1;33m\u001B[0m\u001B[1;33m\u001B[0m\u001B[0m\n\u001B[0m\u001B[0;32m      5\u001B[0m \u001B[1;33m\u001B[0m\u001B[0m\n\u001B[0;32m      6\u001B[0m \u001B[0mdic\u001B[0m\u001B[1;33m=\u001B[0m\u001B[1;33m{\u001B[0m\u001B[1;33m}\u001B[0m\u001B[1;33m\u001B[0m\u001B[1;33m\u001B[0m\u001B[0m\n",
      "\u001B[1;32m~\\Anaconda3\\envs\\Nopimal\\lib\\site-packages\\pandas\\core\\frame.py\u001B[0m in \u001B[0;36m__getitem__\u001B[1;34m(self, key)\u001B[0m\n\u001B[0;32m   2798\u001B[0m             \u001B[1;32mif\u001B[0m \u001B[0mself\u001B[0m\u001B[1;33m.\u001B[0m\u001B[0mcolumns\u001B[0m\u001B[1;33m.\u001B[0m\u001B[0mnlevels\u001B[0m \u001B[1;33m>\u001B[0m \u001B[1;36m1\u001B[0m\u001B[1;33m:\u001B[0m\u001B[1;33m\u001B[0m\u001B[1;33m\u001B[0m\u001B[0m\n\u001B[0;32m   2799\u001B[0m                 \u001B[1;32mreturn\u001B[0m \u001B[0mself\u001B[0m\u001B[1;33m.\u001B[0m\u001B[0m_getitem_multilevel\u001B[0m\u001B[1;33m(\u001B[0m\u001B[0mkey\u001B[0m\u001B[1;33m)\u001B[0m\u001B[1;33m\u001B[0m\u001B[1;33m\u001B[0m\u001B[0m\n\u001B[1;32m-> 2800\u001B[1;33m             \u001B[0mindexer\u001B[0m \u001B[1;33m=\u001B[0m \u001B[0mself\u001B[0m\u001B[1;33m.\u001B[0m\u001B[0mcolumns\u001B[0m\u001B[1;33m.\u001B[0m\u001B[0mget_loc\u001B[0m\u001B[1;33m(\u001B[0m\u001B[0mkey\u001B[0m\u001B[1;33m)\u001B[0m\u001B[1;33m\u001B[0m\u001B[1;33m\u001B[0m\u001B[0m\n\u001B[0m\u001B[0;32m   2801\u001B[0m             \u001B[1;32mif\u001B[0m \u001B[0mis_integer\u001B[0m\u001B[1;33m(\u001B[0m\u001B[0mindexer\u001B[0m\u001B[1;33m)\u001B[0m\u001B[1;33m:\u001B[0m\u001B[1;33m\u001B[0m\u001B[1;33m\u001B[0m\u001B[0m\n\u001B[0;32m   2802\u001B[0m                 \u001B[0mindexer\u001B[0m \u001B[1;33m=\u001B[0m \u001B[1;33m[\u001B[0m\u001B[0mindexer\u001B[0m\u001B[1;33m]\u001B[0m\u001B[1;33m\u001B[0m\u001B[1;33m\u001B[0m\u001B[0m\n",
      "\u001B[1;32m~\\Anaconda3\\envs\\Nopimal\\lib\\site-packages\\pandas\\core\\indexes\\base.py\u001B[0m in \u001B[0;36mget_loc\u001B[1;34m(self, key, method, tolerance)\u001B[0m\n\u001B[0;32m   2646\u001B[0m                 \u001B[1;32mreturn\u001B[0m \u001B[0mself\u001B[0m\u001B[1;33m.\u001B[0m\u001B[0m_engine\u001B[0m\u001B[1;33m.\u001B[0m\u001B[0mget_loc\u001B[0m\u001B[1;33m(\u001B[0m\u001B[0mkey\u001B[0m\u001B[1;33m)\u001B[0m\u001B[1;33m\u001B[0m\u001B[1;33m\u001B[0m\u001B[0m\n\u001B[0;32m   2647\u001B[0m             \u001B[1;32mexcept\u001B[0m \u001B[0mKeyError\u001B[0m\u001B[1;33m:\u001B[0m\u001B[1;33m\u001B[0m\u001B[1;33m\u001B[0m\u001B[0m\n\u001B[1;32m-> 2648\u001B[1;33m                 \u001B[1;32mreturn\u001B[0m \u001B[0mself\u001B[0m\u001B[1;33m.\u001B[0m\u001B[0m_engine\u001B[0m\u001B[1;33m.\u001B[0m\u001B[0mget_loc\u001B[0m\u001B[1;33m(\u001B[0m\u001B[0mself\u001B[0m\u001B[1;33m.\u001B[0m\u001B[0m_maybe_cast_indexer\u001B[0m\u001B[1;33m(\u001B[0m\u001B[0mkey\u001B[0m\u001B[1;33m)\u001B[0m\u001B[1;33m)\u001B[0m\u001B[1;33m\u001B[0m\u001B[1;33m\u001B[0m\u001B[0m\n\u001B[0m\u001B[0;32m   2649\u001B[0m         \u001B[0mindexer\u001B[0m \u001B[1;33m=\u001B[0m \u001B[0mself\u001B[0m\u001B[1;33m.\u001B[0m\u001B[0mget_indexer\u001B[0m\u001B[1;33m(\u001B[0m\u001B[1;33m[\u001B[0m\u001B[0mkey\u001B[0m\u001B[1;33m]\u001B[0m\u001B[1;33m,\u001B[0m \u001B[0mmethod\u001B[0m\u001B[1;33m=\u001B[0m\u001B[0mmethod\u001B[0m\u001B[1;33m,\u001B[0m \u001B[0mtolerance\u001B[0m\u001B[1;33m=\u001B[0m\u001B[0mtolerance\u001B[0m\u001B[1;33m)\u001B[0m\u001B[1;33m\u001B[0m\u001B[1;33m\u001B[0m\u001B[0m\n\u001B[0;32m   2650\u001B[0m         \u001B[1;32mif\u001B[0m \u001B[0mindexer\u001B[0m\u001B[1;33m.\u001B[0m\u001B[0mndim\u001B[0m \u001B[1;33m>\u001B[0m \u001B[1;36m1\u001B[0m \u001B[1;32mor\u001B[0m \u001B[0mindexer\u001B[0m\u001B[1;33m.\u001B[0m\u001B[0msize\u001B[0m \u001B[1;33m>\u001B[0m \u001B[1;36m1\u001B[0m\u001B[1;33m:\u001B[0m\u001B[1;33m\u001B[0m\u001B[1;33m\u001B[0m\u001B[0m\n",
      "\u001B[1;32mpandas\\_libs\\index.pyx\u001B[0m in \u001B[0;36mpandas._libs.index.IndexEngine.get_loc\u001B[1;34m()\u001B[0m\n",
      "\u001B[1;32mpandas\\_libs\\index.pyx\u001B[0m in \u001B[0;36mpandas._libs.index.IndexEngine.get_loc\u001B[1;34m()\u001B[0m\n",
      "\u001B[1;32mpandas\\_libs\\hashtable_class_helper.pxi\u001B[0m in \u001B[0;36mpandas._libs.hashtable.PyObjectHashTable.get_item\u001B[1;34m()\u001B[0m\n",
      "\u001B[1;32mpandas\\_libs\\hashtable_class_helper.pxi\u001B[0m in \u001B[0;36mpandas._libs.hashtable.PyObjectHashTable.get_item\u001B[1;34m()\u001B[0m\n",
      "\u001B[1;31mKeyError\u001B[0m: 'reg_preference_for_trad'"
     ]
    }
   ],
   "source": [
    "# 数据处理\n",
    "data_str=data.select_dtypes(exclude='number').copy()\n",
    "data_str.describe()\n",
    "data_str['reg_preference_for_trad'].fillna(data_str['reg_preference_for_trad'].mode()[0],inplace=True)\n",
    "\n",
    "dic={}\n",
    "for i,val in enumerate(list(data_str['reg_preference_for_trad'].unique())):\n",
    "    dic[val]=i\n",
    "data_str['reg_preference_for_trad']=data_str['reg_preference_for_trad'].map(dic)\n",
    "\n",
    "data_str['latest_query_time_month']=pd.to_datetime(data_str['latest_query_time']).dt.month\n",
    "data_str['latest_query_time_weekday']=pd.to_datetime(data_str['latest_query_time']).dt.weekday\n",
    "\n",
    "data_str['loans_latest_time_month']=pd.to_datetime(data_str['loans_latest_time']).dt.month\n",
    "data_str['loans_latest_time_weekday']=pd.to_datetime(data_str['loans_latest_time']).dt.weekday\n",
    "\n",
    "data_str.drop(['latest_query_time','loans_latest_time'],axis=1,inplace=True)\n",
    "for i in data_str.columns:\n",
    "    data_str[i].fillna(data_str[i].mode()[0],inplace=True)"
   ]
  },
  {
   "cell_type": "code",
   "execution_count": null,
   "metadata": {
    "pycharm": {
     "name": "#%%\n"
    }
   },
   "outputs": [],
   "source": [
    "# 划分训练集测试集\n",
    "from sklearn.model_selection import train_test_split\n",
    "from sklearn.preprocessing import StandardScaler\n",
    "features=[x for x in data_all.columns if x not in ['status']]\n",
    "X=data_all[features]\n",
    "y=data_all['status']\n",
    "\n",
    "X_train,X_test,y_train,y_test=train_test_split(X,y,test_size=0.3)"
   ]
  },
  {
   "cell_type": "code",
   "execution_count": null,
   "metadata": {
    "pycharm": {
     "name": "#%%\n"
    }
   },
   "outputs": [],
   "source": [
    "# 特征归一化\n",
    "std=StandardScaler()\n",
    "X_train=std.fit_transform(X_train)\n",
    "X_test=std.fit_transform(X_test)"
   ]
  },
  {
   "cell_type": "code",
   "execution_count": null,
   "metadata": {
    "pycharm": {
     "name": "#%%\n"
    }
   },
   "outputs": [],
   "source": [
    "# 模型评估\n",
    "from sklearn.metrics import accuracy_score,precision_score,recall_score,f1_score\n",
    "from sklearn.metrics import roc_auc_score,roc_curve,auc\n",
    "import matplotlib.pyplot as plt\n",
    "\n",
    "def model_metrics(clf,X_train,X_test,y_train,y_test):\n",
    "    # 预测\n",
    "    y_train_pred=clf.predict(X_train)\n",
    "    y_test_pred=clf.predict(X_test)\n",
    "    y_train_proba=clf.predict_proba(X_train)[:,1]\n",
    "    y_test_proba=clf.predict_proba(X_test)[:,1]\n",
    "\n",
    "    # 准确率\n",
    "    print('[准确率]',end='')\n",
    "    print('训练集：{:.4f}'.format(accuracy_score(y_train,y_train_pred)),end='')\n",
    "    print('测试集：{:.4f}'.format(accuracy_score(y_test,y_test_pred)),end='')\n",
    "\n",
    "    # 精准率\n",
    "    print('[精准率]',end='')\n",
    "    print('训练集：{:.4f}'.format(precision_score(y_train,y_train_pred)),end='')\n",
    "    print('测试集：{:.4f}'.format(precision_score(y_test,y_test_pred)),end='')\n",
    "\n",
    "    # 召回率\n",
    "    print('[召回率]',end='')\n",
    "    print('训练集：{:.4f}'.format(recall_score(y_train,y_train_pred)),end='')\n",
    "    print('测试集：{:.4f}'.format(recall_score(y_test,y_test_pred)),end='')\n",
    "\n",
    "    # f1-score\n",
    "    print('[f1-score]',end='')\n",
    "    print('训练集：{:.4f}'.format(f1_score(y_train,y_train_pred)),end='')\n",
    "    print('测试集：{:.4f}'.format(f1_score(y_test,y_test_pred)),end='')\n",
    "\n",
    "    # auc取值：用roc_auc_score或auc\n",
    "    print('[auc值]',end='')\n",
    "    print('训练集：{:.4f}'.format(roc_auc_score(y_train,y_train_proba)),end='')\n",
    "    print('测试集：{:.4f}'.format(roc_auc_score(y_test,y_test_proba)),end='')\n",
    "\n",
    "    # roc曲线\n",
    "    fpr_train,tpr_train,thresholds_train=roc_curve(y_train,y_train_proba,pos_label=1)\n",
    "    fpr_test,tpr_test,thresholds_test=roc_curve(y_test,y_test_proba,pos_label=1)\n",
    "\n",
    "    label=['Train - AUC:{:.4f'.format(auc(fpr_train,tpr_train)),\n",
    "           'Test - AUC:{:.4f'.format(auc(fpr_test,tpr_test))]\n",
    "    plt.plot(fpr_train,tpr_train)\n",
    "    plt.plot(fpr_test,tpr_test)\n",
    "    plt.plot([0,1],[0,1],'d--')\n",
    "    plt.xlabel('False Positive Rate')\n",
    "    plt.ylabel('True Positive Rate')\n",
    "    plt.legend(label,loc=4)\n",
    "    plt.title('ROC curve')"
   ]
  },
  {
   "cell_type": "code",
   "execution_count": null,
   "metadata": {
    "pycharm": {
     "name": "#%%\n"
    }
   },
   "outputs": [],
   "source": [
    "# 模型\n",
    "from sklearn.model_selection import GridSearchCV\n",
    "from sklearn.linear_model import LogisticRegression\n",
    "from sklearn import svm\n",
    "from sklearn.tree import DecisionTreeClassifier\n",
    "from lightgbm.sklearn import LGBMClassifier\n",
    "from sklearn.metrics import confusion_matrix\n",
    "from mlxtend.classifier import StackingClassifier\n",
    "from sklearn.ensemble import RandomForestClassifier\n",
    "\n",
    "plt.rcParams['font.family']=['SimHei']\n",
    "plt.rcParams['axes.unicode_minus']=False\n",
    "\n",
    "# rf\n",
    "rf=RandomForestClassifier(random_state=2018)\n",
    "param={'n_estimators':[40,60,800],'max_depth':[i for i in range(6,10)],\n",
    "       'criterion':['entropy'],'min_samples_split':[5,6,7,8]}\n",
    "gsearch=GridSearchCV(rf,param_grid=param,scoring='roc_auc',cv=4)\n",
    "gsearch.fit(X_train,y_train)\n",
    "print('最佳参数: ',gsearch.best_params_)\n",
    "print('训练集的最佳分数：',gsearch.best_score_)\n",
    "print('测试集的最佳分数: ',gsearch.score(X_test,y_test))\n",
    "\n",
    "rf=RandomForestClassifier(criterion='entropy',max_depth=9,min_samples_split=7,n_estimators=800)\n",
    "rf.fit(X_train,y_train)\n",
    "model_metrics(rf,X_train,X_test,y_train,y_test)\n",
    "\n",
    "# svm_linear\n",
    "svm_linear=svm.SVC(kernel='linear',probability=True).fit(X_train,y_train)\n",
    "model_metrics(svm_linear,X_train,X_test,y_train,y_test)\n",
    "# svm poly\n",
    "svm_poly=svm.SVC(C=0.01,kernel='poly',probability=True).fit(X_train,y_train)\n",
    "model_metrics(svm_poly,X_train,X_test,y_train,y_test)\n",
    "\n",
    "# svm_rbf\n",
    "svm_rbf=svm.SVC(kernel='rbf',probability=True,gamma=0.01,C=0.1)\n",
    "svm_rbf.fit(X_train,y_train)\n",
    "model_metrics(svm_rbf,X_train,X_test,y_train,y_test)\n",
    "\n",
    "# svm_sigmoid\n",
    "svm_sigmoid=svm.SVC(C=0.05,kernel='sigmoid',probability=True)\n",
    "svm_sigmoid.fit(X_train,y_train)\n",
    "model_metrics(svm_sigmoid,X_train,X_test,y_train,y_test)\n",
    "\n",
    "# dt\n",
    "dt=DecisionTreeClassifier(max_depth=9,min_samples_split=100,min_samples_leaf=90,max_features=9)\n",
    "dt.fit(X_train,y_train)\n",
    "model_metrics(dt,X_train,X_test,y_train,y_test)\n",
    "\n",
    "# lr\n",
    "lr=LogisticRegression(C=0.04,penalty='l1')\n",
    "model_metrics(lr,X_train,X_test,y_train,y_test)\n",
    "\n",
    "\n",
    "# lgb\n",
    "lgb=LGBMClassifier(learning_rate=0.1,n_estimators=50,max_depth=3,\n",
    "                  min_child_weight=7,gamma=0,subsample=0.5,colsample_bytree=0.8,\n",
    "                  reg_alpha=1e-5,nthread=4,scale_pos_weight=1)\n",
    "model_metrics(lgb,X_train,X_test,y_train,y_test)\n",
    "\n",
    "# 模型融合\n",
    "sclf_lr=StackingClassifier(classifiers=[lr,svm_linear,svm_rbf,rf,lgb],\n",
    "                           meta_classifier=lr,\n",
    "                           use_probas=True,\n",
    "                           average_probas=True,\n",
    "                           use_features_in_secondary=True)\n",
    "sclf_lr.fit(X_train,y_train.values)\n",
    "model_metrics(sclf_lr,X_train,X_test,y_train,y_test)\n"
   ]
  }
 ],
 "metadata": {
  "kernelspec": {
   "display_name": "PyCharm (Nopimal)",
   "language": "python",
   "name": "pycharm-28004bf6"
  },
  "language_info": {
   "codemirror_mode": {
    "name": "ipython",
    "version": 3
   },
   "file_extension": ".py",
   "mimetype": "text/x-python",
   "name": "python",
   "nbconvert_exporter": "python",
   "pygments_lexer": "ipython3",
   "version": "3.7.7"
  }
 },
 "nbformat": 4,
 "nbformat_minor": 1
}